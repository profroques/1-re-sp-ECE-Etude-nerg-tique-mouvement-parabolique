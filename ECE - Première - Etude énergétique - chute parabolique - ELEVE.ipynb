{
 "cells": [
  {
   "cell_type": "markdown",
   "metadata": {},
   "source": [
    "<h1> INTERFACE - ECE Etude énergétique - chute parabolique - 1ère Spé PhyChim</h1>"
   ]
  },
  {
   "cell_type": "markdown",
   "metadata": {},
   "source": [
    "<div class=\"panel panel-primary\">\n",
    "    <div class=\"panel-heading\"><h2>Préambule :</h2></div>\n",
    "      <div class=\"panel-body\">\n",
    "Dans cette interface, vous allez découvrir des blocs de code qui composent un programme informatique complet.\n",
    "\n",
    "Ce programme a pour but de tracer les évolutions temporelles des énergies cinétique, potentielle de pesanteur et mécanique d'une balle en mouvement parabolique.\n",
    "\n",
    "Le programme est décomposé en deux blocs pour lequel vous pouvez appeler un.e enseignant.e en cas de blocage.\n",
    "      </div>\n",
    "</div>"
   ]
  },
  {
   "cell_type": "markdown",
   "metadata": {},
   "source": [
    "<div class=\"alert alert-info\" role=\"alert\">\n",
    "\n",
    "<b>Informations pour exécuter un bloc de programme informatique : </b> <br>\n",
    "<br><br>Le bloc suivant permet d'importer des librairies utiles, de déclarer des variables et de créer des listes pour les coordoonées de la balle au cours du temps. Il vous est demandé de simplement exécuter ce code.dant.</b>\n",
    "</div>"
   ]
  },
  {
   "cell_type": "code",
   "execution_count": 1,
   "metadata": {
    "scrolled": true
   },
   "outputs": [
    {
     "name": "stdout",
     "output_type": "stream",
     "text": [
      "Bravo !! Ce premier bloc est bien exécuté ! Tu dead ça ;)\n"
     ]
    }
   ],
   "source": [
    "import matplotlib.pyplot as plt ;\n",
    "import numpy as np\n",
    "\n",
    "##on definit les listes que l'on va créer\n",
    "Vitesse_aucarre,tg,Ec,Em,Ep=[0],[0],[0],[0],[0]\n",
    "\n",
    "\n",
    "t = [ 0.15, 0.2, 0.25, 0.3, 0.35, 0.399999, 0.449999, 0.499999, 0.549999, 0.599999, 0.649999, 0.699999, 0.749999, 0.799999, 0.849999, 0.899999, 0.949999, 0.999999, 1.05, 1.1, 1.15]\n",
    "x = [0.371108, 0.48244, 0.58847, 0.699803, 0.811135, 0.93307, 1.0444, 1.15573, 1.27237, 1.3837, 1.49503, 1.60637, 1.7283, 1.84493, 1.95627, 2.0676, 2.18953, 2.30617, 2.4228, 2.53413, 2.64547]\n",
    "\n",
    "y = [0.641486, 0.858849, 1.0497, 1.22465, 1.36249, 1.47383, 1.55335, 1.61697, 1.66468, 1.67529, 1.65938, 1.62227, 1.56395, 1.47913, 1.3678, 1.23526, 1.06561, 0.885356, 0.667994, 0.434726, 0.180252]\n",
    "print(\"Bravo !! Ce premier bloc est bien exécuté ! Tu dead ça ;)\")"
   ]
  },
  {
   "cell_type": "markdown",
   "metadata": {},
   "source": [
    "<div class=\"alert alert-warning\">\n",
    "<b>TRAVAIL À FAIRE POUR COMPLÉTER LE BLOC SUIVANT </b> <br>\n",
    "<br>\n",
    "    Le bloc de programme suivant permet de calculer la composante vi_selonX de la vitesse vitesse de la bille selon l'axe Ox, la composante vi_selonY de la vitesse vitesse de la bille selon l'axe Oy, de calculer la valeur de la vitesse vi de la vitesse au carré de la balle à la date \"i\", ainsi que de calculer les énergies cinétique (Ec), potentielle de pesanteur (Epp) et mécanique (Em).\n",
    "    \n",
    "<br>\n",
    "<br>\n",
    "REMARQUE ULTRA IMPORTANTE : pour mettre une valeur au carré, il suffit de taper **2 (la double * signifie \"puissance\")\n",
    "<br>\n",
    "<br>\n",
    "Remplacer alors les mentions \"-----A COMPLETER-----\" par une expression adaptée.\n",
    "\n",
    "<br>\n",
    "<br>\n",
    "\n",
    "<br>\n",
    "<b>ATTENTION : Une fois le programme complété, il ne faut pas oublier de l'exécuter.\n",
    "    </div>"
   ]
  },
  {
   "cell_type": "code",
   "execution_count": null,
   "metadata": {},
   "outputs": [],
   "source": [
    "# On créé la variable \"n\" qui correspond aux nombres de valeurs de dates t \n",
    "# autrement dit, on nombre de points reperés\n",
    "\n",
    "n=len(t)\n",
    "\n",
    "# dans une boucle, on parcourt la liste de t et y pour calculer les differentes valeurs de v, Ec, Ep, Em\n",
    "for i in range(1,n-1):\n",
    "    Vi_selonX=-----A COMPLETER-----\n",
    "    Vi_selonY=-----A COMPLETER-----\n",
    "    Vi_carre=-----A COMPLETER-----\n",
    "    Eci=-----A COMPLETER-----\n",
    "    Epi=-----A COMPLETER-----\n",
    "    Emi=-----A COMPLETER-----\n",
    "    \n",
    "# On stocke chaque valeur dans les listes\n",
    "    Vitesse_aucarre.append(Vi_carre)\n",
    "    Ec.append(Eci)\n",
    "    Ep.append(Epi)\n",
    "    Em.append(Emi)\n",
    "    tg.append(t[i])\n"
   ]
  },
  {
   "cell_type": "markdown",
   "metadata": {},
   "source": [
    "<div class=\"alert alert-info\" role=\"alert\">\n",
    "<b>TRAVAIL À FAIRE POUR EXÉCUTER LE BLOC SUIVANT </b> <br>\n",
    "<br>\n",
    "    Le bloc de programme suivant permet de tracer les évolutions temporelles des différentes énergies.\n",
    "   \n",
    "</div>"
   ]
  },
  {
   "cell_type": "code",
   "execution_count": null,
   "metadata": {},
   "outputs": [],
   "source": [
    "axes = plt.gca()\n",
    "\n",
    "plt.title(\"Energies en fonction du temps\")\n",
    "\n",
    "plt.plot(tg,Ec,'+r',label='Ec')\n",
    "plt.plot(tg,Ep,'xb',label='Ep')\n",
    "plt.plot(tg,Em,'ok',label='Em')\n",
    "\n",
    "# On ajoute un titre pour chaque axe et pour le graphique\n",
    "plt.xlabel(\"temps t (en s)\")\n",
    "plt.ylabel(\"Energie (en J)\")\n",
    "plt.legend()\n",
    "plt.show()\n",
    "plt.close()\n"
   ]
  }
 ],
 "metadata": {
  "kernelspec": {
   "display_name": "Python 3",
   "language": "python",
   "name": "python3"
  },
  "language_info": {
   "codemirror_mode": {
    "name": "ipython",
    "version": 3
   },
   "file_extension": ".py",
   "mimetype": "text/x-python",
   "name": "python",
   "nbconvert_exporter": "python",
   "pygments_lexer": "ipython3",
   "version": "3.7.3"
  }
 },
 "nbformat": 4,
 "nbformat_minor": 2
}
